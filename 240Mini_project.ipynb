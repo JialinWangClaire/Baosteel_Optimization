{
  "nbformat": 4,
  "nbformat_minor": 0,
  "metadata": {
    "colab": {
      "provenance": []
    },
    "kernelspec": {
      "name": "python3",
      "display_name": "Python 3"
    },
    "language_info": {
      "name": "python"
    }
  },
  "cells": [
    {
      "cell_type": "code",
      "execution_count": null,
      "metadata": {
        "colab": {
          "base_uri": "https://localhost:8080/"
        },
        "id": "vB28WTN_eGvy",
        "outputId": "bf4450e6-fa9d-4c2d-acfa-a1e35a7f9889"
      },
      "outputs": [
        {
          "output_type": "stream",
          "name": "stdout",
          "text": [
            "Collecting gurobipy\n",
            "  Downloading gurobipy-11.0.0-cp310-cp310-manylinux2014_x86_64.manylinux_2_17_x86_64.whl (13.4 MB)\n",
            "\u001b[2K     \u001b[90m━━━━━━━━━━━━━━━━━━━━━━━━━━━━━━━━━━━━━━━━\u001b[0m \u001b[32m13.4/13.4 MB\u001b[0m \u001b[31m85.9 MB/s\u001b[0m eta \u001b[36m0:00:00\u001b[0m\n",
            "\u001b[?25hInstalling collected packages: gurobipy\n",
            "Successfully installed gurobipy-11.0.0\n"
          ]
        }
      ],
      "source": [
        "!pip install gurobipy\n",
        "from gurobipy import *"
      ]
    },
    {
      "cell_type": "code",
      "source": [
        "# Create a new model\n",
        "m = Model(\"mp1\")\n",
        "\n",
        "# Create variables\n",
        "x1 = m.addVar(vtype=GRB.CONTINUOUS, lb=0, name=\"x1\")\n",
        "x2 = m.addVar(vtype=GRB.CONTINUOUS, lb=0, name=\"x2\")\n",
        "x3 = m.addVar(vtype=GRB.CONTINUOUS, lb=0, name=\"x3\")\n",
        "x4 = m.addVar(vtype=GRB.CONTINUOUS, lb=0, name=\"x4\")\n",
        "y1 = m.addVar(vtype=GRB.CONTINUOUS, lb=0, ub=3000, name=\"y1\")\n",
        "y2 = m.addVar(vtype=GRB.CONTINUOUS, lb=0, ub=3500, name=\"y2\")\n",
        "y3 = m.addVar(vtype=GRB.CONTINUOUS, lb=0, ub=4000, name=\"y3\")\n",
        "y4 = m.addVar(vtype=GRB.CONTINUOUS, lb=0, ub=4500, name=\"y4\")\n",
        "w1 = m.addVar(vtype=GRB.CONTINUOUS, lb=0, name=\"w1\")\n",
        "w2 = m.addVar(vtype=GRB.CONTINUOUS, lb=0, name=\"w2\")\n",
        "w3 = m.addVar(vtype=GRB.CONTINUOUS, lb=0, name=\"w3\")\n",
        "w4 = m.addVar(vtype=GRB.CONTINUOUS, lb=0, name=\"w4\")\n",
        "v1 = m.addVar(vtype=GRB.CONTINUOUS, lb=0, name=\"v1\")\n",
        "v2 = m.addVar(vtype=GRB.CONTINUOUS, lb=0, name=\"v2\")\n",
        "v3 = m.addVar(vtype=GRB.CONTINUOUS, lb=0, name=\"v3\")\n",
        "v4 = m.addVar(vtype=GRB.CONTINUOUS, lb=0, name=\"v4\")\n",
        "z1 = m.addVar(vtype=GRB.CONTINUOUS, name=\"z1\")\n",
        "z2 = m.addVar(vtype=GRB.CONTINUOUS, name=\"z2\")\n",
        "z3 = m.addVar(vtype=GRB.CONTINUOUS, name=\"z3\")\n",
        "z4 = m.addVar(vtype=GRB.CONTINUOUS, name=\"z4\")"
      ],
      "metadata": {
        "id": "iOxz78qvpjW6",
        "outputId": "e5daf23a-9d57-46bd-a2e4-53020f6d6fee",
        "colab": {
          "base_uri": "https://localhost:8080/"
        }
      },
      "execution_count": null,
      "outputs": [
        {
          "output_type": "stream",
          "name": "stdout",
          "text": [
            "Restricted license - for non-production use only - expires 2025-11-24\n"
          ]
        }
      ]
    },
    {
      "cell_type": "code",
      "source": [
        "# Set objective\n",
        "m.setObjective(7400*x1 + 7500*x2 + 7600*x3 + 8000*x4 + 7500*w1 + 7600*w2 + 7800*w3 + 8200*w4 + 150*v1 + 160*v2 + 170*v3 + 180*v4 + 150*y1 + 150*y2 + 150*y2 + 150*y4 + 50*z1 + 50*z2 + 50*z3 +50*z4, GRB.MINIMIZE)"
      ],
      "metadata": {
        "id": "vCjYPXfzp4Ha"
      },
      "execution_count": null,
      "outputs": []
    },
    {
      "cell_type": "code",
      "source": [
        "# Add constraint:\n",
        "\n",
        "m.addConstr(y1 == 1200 + x1 - 4000, \"c1\");\n",
        "m.addConstr(y2 == y1 + x2 - 4500, \"c2\");\n",
        "m.addConstr(y3 == y2 + x3 - 4200, \"c3\");\n",
        "m.addConstr(y4 == y3 + x4 - 4400, \"c4\");\n",
        "m.addConstr(y4 >= 1800, \"c5\");\n",
        "\n",
        "m.addConstr(w1 >= x1 - 4200, \"c6\");\n",
        "m.addConstr(w2 >= x2 - 4200, \"c7\");\n",
        "m.addConstr(w3 >= x3 - 4200, \"c8\");\n",
        "m.addConstr(w4 >= x4 - 4200, \"c9\");\n",
        "\n",
        "m.addConstr(v1 >= 4000 - x1 - 1200, \"c10\");\n",
        "m.addConstr(v2 >= 4500 - x2 - y1, \"c11\");\n",
        "m.addConstr(v3 >= 4200 - x3 - y2, \"c12\");\n",
        "m.addConstr(v4 >= 4400 - x4 - y3, \"c13\");\n",
        "\n",
        "m.addConstr(z1 >= x1 - 4300, \"c14\");\n",
        "m.addConstr(z1 >= 4300 - x1, \"c15\");\n",
        "m.addConstr(z2 >= x2 - x1, \"c16\");\n",
        "m.addConstr(z2 >= x1 - x2, \"c17\");\n",
        "m.addConstr(z3 >= x3 - x2, \"c18\");\n",
        "m.addConstr(z3 >= x2 - x3, \"c19\");\n",
        "m.addConstr(z4 >= x4 - x3, \"c20\");\n",
        "m.addConstr(z4 >= x3 - x4, \"c21\");"
      ],
      "metadata": {
        "id": "wGCexEFnr-Ch"
      },
      "execution_count": null,
      "outputs": []
    },
    {
      "cell_type": "code",
      "source": [
        "# Optimize model\n",
        "m.optimize()\n",
        "\n",
        "# Output results\n",
        "for v in m.getVars():\n",
        "    print('%s %g' % (v.varName, v.x))\n",
        "\n",
        "print('Objective: %g' % m.objVal)"
      ],
      "metadata": {
        "colab": {
          "base_uri": "https://localhost:8080/"
        },
        "id": "SM4KCEZ64E2i",
        "outputId": "44492628-2e53-4e83-840c-8ef13860ff6b"
      },
      "execution_count": null,
      "outputs": [
        {
          "output_type": "stream",
          "name": "stdout",
          "text": [
            "Gurobi Optimizer version 11.0.0 build v11.0.0rc2 (linux64 - \"Ubuntu 22.04.3 LTS\")\n",
            "\n",
            "CPU model: AMD EPYC 7B12, instruction set [SSE2|AVX|AVX2]\n",
            "Thread count: 1 physical cores, 2 logical processors, using up to 2 threads\n",
            "\n",
            "Optimize a model with 21 rows, 20 columns and 53 nonzeros\n",
            "Model fingerprint: 0xdbdc3e46\n",
            "Coefficient statistics:\n",
            "  Matrix range     [1e+00, 1e+00]\n",
            "  Objective range  [5e+01, 8e+03]\n",
            "  Bounds range     [3e+03, 4e+03]\n",
            "  RHS range        [2e+03, 4e+03]\n",
            "Presolve removed 9 rows and 9 columns\n",
            "Presolve time: 0.04s\n",
            "Presolved: 12 rows, 11 columns, 34 nonzeros\n",
            "\n",
            "Iteration    Objective       Primal Inf.    Dual Inf.      Time\n",
            "       0    1.3546000e+08   3.075000e+03   0.000000e+00      0s\n",
            "       7    1.4278000e+08   0.000000e+00   0.000000e+00      0s\n",
            "\n",
            "Solved in 7 iterations and 0.06 seconds (0.00 work units)\n",
            "Optimal objective  1.427800000e+08\n",
            "x1 4500\n",
            "x2 4500\n",
            "x3 4500\n",
            "x4 4200\n",
            "y1 1700\n",
            "y2 1700\n",
            "y3 2000\n",
            "y4 1800\n",
            "w1 300\n",
            "w2 300\n",
            "w3 300\n",
            "w4 0\n",
            "v1 0\n",
            "v2 0\n",
            "v3 0\n",
            "v4 0\n",
            "z1 200\n",
            "z2 0\n",
            "z3 0\n",
            "z4 300\n",
            "Objective: 1.4278e+08\n"
          ]
        }
      ]
    },
    {
      "cell_type": "code",
      "source": [
        "print('\\nVariable Sensitivity Analysis:')\n",
        "print('Name\\tSolution\\tReduced Cost\\tObjective Coef\\tMin Obj Coef\\tMax Obj Coef')\n",
        "for v in m.getVars():\n",
        "    print(f\"{v.VarName}\\t{round(v.x,2)}\\t\\t{round(v.RC, 2)}\\t\\t{round(v.Obj, 2)}\\t\\t{round(v.SAObjLow, 2)}\\t\\t{round(v.SAObjUp, 2)}\")\n",
        "\n",
        "\n",
        "print('\\nSensitivity Analysis:')\n",
        "print('Name\\t\\tShadow Price\\tSlack\\tConstraint RHS\\t\\tMin RHS\\t\\tMax RHS')\n",
        "for c in m.getConstrs():\n",
        "    print(f\"{c.ConstrName}\\t\\t{round(c.Pi, 2)}\\t\\t{round(c.Slack, 2)}\\t\\t{round(c.RHS, 2)}\\t\\t{round(c.SARHSLow, 2)}\\t\\t{round(c.SARHSUp, 2)}\")"
      ],
      "metadata": {
        "colab": {
          "base_uri": "https://localhost:8080/"
        },
        "id": "1p39rW8cMwLH",
        "outputId": "10bcc7e2-e4c8-4d58-e19b-cf1ead87b73e"
      },
      "execution_count": null,
      "outputs": [
        {
          "output_type": "stream",
          "name": "stdout",
          "text": [
            "\n",
            "Variable Sensitivity Analysis:\n",
            "Name\tSolution\tReduced Cost\tObjective Coef\tMin Obj Coef\tMax Obj Coef\n",
            "x1\t4500.0\t\t0.0\t\t7400.0\t\t7350.0\t\t7425.0\n",
            "x2\t4500.0\t\t0.0\t\t7500.0\t\t7450.0\t\t7600.0\n",
            "x3\t4500.0\t\t0.0\t\t7600.0\t\t7550.0\t\t7625.0\n",
            "x4\t4200.0\t\t0.0\t\t8000.0\t\t7266.67\t\t15466.67\n",
            "y1\t1700.0\t\t0.0\t\t150.0\t\t100.0\t\t175.0\n",
            "y2\t1700.0\t\t0.0\t\t300.0\t\t275.0\t\t350.0\n",
            "y3\t2000.0\t\t0.0\t\t0.0\t\t-7466.67\t\t733.33\n",
            "y4\t1800.0\t\t0.0\t\t150.0\t\t-15416.67\t\tinf\n",
            "w1\t300.0\t\t0.0\t\t7500.0\t\t7450.0\t\t7525.0\n",
            "w2\t300.0\t\t0.0\t\t7600.0\t\t7550.0\t\t7700.0\n",
            "w3\t300.0\t\t0.0\t\t7800.0\t\t7750.0\t\t7825.0\n",
            "w4\t0.0\t\t733.33\t\t8200.0\t\t7466.67\t\tinf\n",
            "v1\t0.0\t\t150.0\t\t150.0\t\t0.0\t\tinf\n",
            "v2\t0.0\t\t160.0\t\t160.0\t\t0.0\t\tinf\n",
            "v3\t0.0\t\t170.0\t\t170.0\t\t0.0\t\tinf\n",
            "v4\t0.0\t\t180.0\t\t180.0\t\t0.0\t\tinf\n",
            "z1\t200.0\t\t0.0\t\t50.0\t\t0.0\t\t75.0\n",
            "z2\t0.0\t\t33.33\t\t50.0\t\t16.67\t\tinf\n",
            "z3\t0.0\t\t16.67\t\t50.0\t\t33.33\t\tinf\n",
            "z4\t300.0\t\t0.0\t\t50.0\t\t0.0\t\t75.0\n",
            "\n",
            "Sensitivity Analysis:\n",
            "Name\t\tShadow Price\tSlack\tConstraint RHS\t\tMin RHS\t\tMax RHS\n",
            "c1\t\t-14966.67\t\t0.0\t\t-2800.0\t\t-5350.0\t\t-2200.0\n",
            "c2\t\t-15116.67\t\t0.0\t\t-4500.0\t\t-8400.0\t\t-3900.0\n",
            "c3\t\t-15416.67\t\t0.0\t\t-4200.0\t\t-6900.0\t\t-3600.0\n",
            "c4\t\t-15416.67\t\t0.0\t\t-4400.0\t\t-6400.0\t\t-3800.0\n",
            "c5\t\t15566.67\t\t0.0\t\t1800.0\t\t1200.0\t\t3800.0\n",
            "c6\t\t7500.0\t\t0.0\t\t-4200.0\t\t-4500.0\t\tinf\n",
            "c7\t\t7600.0\t\t0.0\t\t-4200.0\t\t-4500.0\t\tinf\n",
            "c8\t\t7800.0\t\t0.0\t\t-4200.0\t\t-4500.0\t\tinf\n",
            "c9\t\t7466.67\t\t0.0\t\t-4200.0\t\t-4425.0\t\t-2200.0\n",
            "c10\t\t0.0\t\t-1700.0\t\t2800.0\t\t-inf\t\t4500.0\n",
            "c11\t\t0.0\t\t-1700.0\t\t4500.0\t\t-inf\t\t6200.0\n",
            "c12\t\t0.0\t\t-2000.0\t\t4200.0\t\t-inf\t\t6200.0\n",
            "c13\t\t0.0\t\t-1800.0\t\t4400.0\t\t-inf\t\t6200.0\n",
            "c14\t\t50.0\t\t0.0\t\t-4300.0\t\t-4500.0\t\tinf\n",
            "c15\t\t0.0\t\t-400.0\t\t4300.0\t\t-inf\t\t4700.0\n",
            "c16\t\t0.0\t\t-0.0\t\t0.0\t\t-inf\t\t0.0\n",
            "c17\t\t16.67\t\t0.0\t\t0.0\t\t-900.0\t\t0.0\n",
            "c18\t\t0.0\t\t-0.0\t\t0.0\t\t-inf\t\t0.0\n",
            "c19\t\t33.33\t\t0.0\t\t0.0\t\t-450.0\t\t0.0\n",
            "c20\t\t0.0\t\t-600.0\t\t0.0\t\t-inf\t\t600.0\n",
            "c21\t\t50.0\t\t0.0\t\t0.0\t\t-300.0\t\tinf\n"
          ]
        }
      ]
    },
    {
      "cell_type": "code",
      "source": [
        "from prettytable import PrettyTable\n",
        "\n",
        "# Variable Sensitivity Analysis\n",
        "variable_table = PrettyTable()\n",
        "variable_table.field_names = [\"Name\", \"Solution\", \"Reduced Cost\", \"Objective Coef\", \"Min Obj Coef\", \"Max Obj Coef\"]\n",
        "\n",
        "for v in m.getVars():\n",
        "    variable_table.add_row([v.VarName, round(v.x, 2), round(v.RC, 2), round(v.Obj, 2), round(v.SAObjLow, 2), round(v.SAObjUp, 2)])\n",
        "\n",
        "# Sensitivity Analysis\n",
        "sensitivity_table = PrettyTable()\n",
        "sensitivity_table.field_names = [\"Name\", \"Shadow Price\", \"Slack\", \"Constraint RHS\", \"Min RHS\", \"Max RHS\"]\n",
        "\n",
        "for c in m.getConstrs():\n",
        "    sensitivity_table.add_row([c.ConstrName, round(c.Pi, 2), round(c.Slack, 2), round(c.RHS, 2), round(c.SARHSLow, 2), round(c.SARHSUp, 2)])\n",
        "\n",
        "# Print the tables\n",
        "print('\\nVariable Sensitivity Analysis:')\n",
        "print(variable_table)\n",
        "\n",
        "print('\\nSensitivity Analysis:')\n",
        "print(sensitivity_table)\n"
      ],
      "metadata": {
        "id": "eamyozC4ZcZA",
        "outputId": "7867f479-adba-4adf-93eb-6930c4e3bb29",
        "colab": {
          "base_uri": "https://localhost:8080/"
        }
      },
      "execution_count": null,
      "outputs": [
        {
          "output_type": "stream",
          "name": "stdout",
          "text": [
            "\n",
            "Variable Sensitivity Analysis:\n",
            "+------+----------+--------------+----------------+--------------+--------------+\n",
            "| Name | Solution | Reduced Cost | Objective Coef | Min Obj Coef | Max Obj Coef |\n",
            "+------+----------+--------------+----------------+--------------+--------------+\n",
            "|  x1  |  4500.0  |     0.0      |     7400.0     |    7350.0    |    7425.0    |\n",
            "|  x2  |  4500.0  |     0.0      |     7500.0     |    7450.0    |    7600.0    |\n",
            "|  x3  |  4500.0  |     0.0      |     7600.0     |    7550.0    |    7625.0    |\n",
            "|  x4  |  4200.0  |     0.0      |     8000.0     |   7266.67    |   15466.67   |\n",
            "|  y1  |  1700.0  |     0.0      |     150.0      |    100.0     |    175.0     |\n",
            "|  y2  |  1700.0  |     0.0      |     300.0      |    275.0     |    350.0     |\n",
            "|  y3  |  2000.0  |     0.0      |      0.0       |   -7466.67   |    733.33    |\n",
            "|  y4  |  1800.0  |     0.0      |     150.0      |  -15416.67   |     inf      |\n",
            "|  w1  |  300.0   |     0.0      |     7500.0     |    7450.0    |    7525.0    |\n",
            "|  w2  |  300.0   |     0.0      |     7600.0     |    7550.0    |    7700.0    |\n",
            "|  w3  |  300.0   |     0.0      |     7800.0     |    7750.0    |    7825.0    |\n",
            "|  w4  |   0.0    |    733.33    |     8200.0     |   7466.67    |     inf      |\n",
            "|  v1  |   0.0    |    150.0     |     150.0      |     0.0      |     inf      |\n",
            "|  v2  |   0.0    |    160.0     |     160.0      |     0.0      |     inf      |\n",
            "|  v3  |   0.0    |    170.0     |     170.0      |     0.0      |     inf      |\n",
            "|  v4  |   0.0    |    180.0     |     180.0      |     0.0      |     inf      |\n",
            "|  z1  |  200.0   |     0.0      |      50.0      |     0.0      |     75.0     |\n",
            "|  z2  |   0.0    |    33.33     |      50.0      |    16.67     |     inf      |\n",
            "|  z3  |   0.0    |    16.67     |      50.0      |    33.33     |     inf      |\n",
            "|  z4  |  300.0   |     0.0      |      50.0      |     0.0      |     75.0     |\n",
            "+------+----------+--------------+----------------+--------------+--------------+\n",
            "\n",
            "Sensitivity Analysis:\n",
            "+------+--------------+---------+----------------+---------+---------+\n",
            "| Name | Shadow Price |  Slack  | Constraint RHS | Min RHS | Max RHS |\n",
            "+------+--------------+---------+----------------+---------+---------+\n",
            "|  c1  |  -14966.67   |   0.0   |    -2800.0     | -5350.0 | -2200.0 |\n",
            "|  c2  |  -15116.67   |   0.0   |    -4500.0     | -8400.0 | -3900.0 |\n",
            "|  c3  |  -15416.67   |   0.0   |    -4200.0     | -6900.0 | -3600.0 |\n",
            "|  c4  |  -15416.67   |   0.0   |    -4400.0     | -6400.0 | -3800.0 |\n",
            "|  c5  |   15566.67   |   0.0   |     1800.0     |  1200.0 |  3800.0 |\n",
            "|  c6  |    7500.0    |   0.0   |    -4200.0     | -4500.0 |   inf   |\n",
            "|  c7  |    7600.0    |   0.0   |    -4200.0     | -4500.0 |   inf   |\n",
            "|  c8  |    7800.0    |   0.0   |    -4200.0     | -4500.0 |   inf   |\n",
            "|  c9  |   7466.67    |   0.0   |    -4200.0     | -4425.0 | -2200.0 |\n",
            "| c10  |     0.0      | -1700.0 |     2800.0     |   -inf  |  4500.0 |\n",
            "| c11  |     0.0      | -1700.0 |     4500.0     |   -inf  |  6200.0 |\n",
            "| c12  |     0.0      | -2000.0 |     4200.0     |   -inf  |  6200.0 |\n",
            "| c13  |     0.0      | -1800.0 |     4400.0     |   -inf  |  6200.0 |\n",
            "| c14  |     50.0     |   0.0   |    -4300.0     | -4500.0 |   inf   |\n",
            "| c15  |     0.0      |  -400.0 |     4300.0     |   -inf  |  4700.0 |\n",
            "| c16  |     0.0      |   -0.0  |      0.0       |   -inf  |   0.0   |\n",
            "| c17  |    16.67     |   0.0   |      0.0       |  -900.0 |   0.0   |\n",
            "| c18  |     0.0      |   -0.0  |      0.0       |   -inf  |   0.0   |\n",
            "| c19  |    33.33     |   0.0   |      0.0       |  -450.0 |   0.0   |\n",
            "| c20  |     0.0      |  -600.0 |      0.0       |   -inf  |  600.0  |\n",
            "| c21  |     50.0     |   0.0   |      0.0       |  -300.0 |   inf   |\n",
            "+------+--------------+---------+----------------+---------+---------+\n"
          ]
        }
      ]
    }
  ]
}